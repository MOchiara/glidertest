{
 "cells": [
  {
   "cell_type": "code",
   "execution_count": 1,
   "id": "7c437da6-c3b3-4c48-b272-ee5b8ac27f69",
   "metadata": {},
   "outputs": [
    {
     "ename": "ModuleNotFoundError",
     "evalue": "No module named 'glidertest'",
     "output_type": "error",
     "traceback": [
      "\u001b[1;31m---------------------------------------------------------------------------\u001b[0m",
      "\u001b[1;31mModuleNotFoundError\u001b[0m                       Traceback (most recent call last)",
      "Cell \u001b[1;32mIn[1], line 3\u001b[0m\n\u001b[0;32m      1\u001b[0m \u001b[38;5;28;01mimport\u001b[39;00m \u001b[38;5;21;01mmatplotlib\u001b[39;00m\u001b[38;5;21;01m.\u001b[39;00m\u001b[38;5;21;01mpyplot\u001b[39;00m \u001b[38;5;28;01mas\u001b[39;00m \u001b[38;5;21;01mplt\u001b[39;00m\n\u001b[0;32m      2\u001b[0m \u001b[38;5;28;01mimport\u001b[39;00m \u001b[38;5;21;01mnumpy\u001b[39;00m \u001b[38;5;28;01mas\u001b[39;00m \u001b[38;5;21;01mnp\u001b[39;00m\n\u001b[1;32m----> 3\u001b[0m \u001b[38;5;28;01mfrom\u001b[39;00m \u001b[38;5;21;01mglidertest\u001b[39;00m \u001b[38;5;28;01mimport\u001b[39;00m fetchers\n\u001b[0;32m      4\u001b[0m \u001b[38;5;28;01mfrom\u001b[39;00m \u001b[38;5;21;01mglidertest\u001b[39;00m \u001b[38;5;28;01mimport\u001b[39;00m tools\n",
      "\u001b[1;31mModuleNotFoundError\u001b[0m: No module named 'glidertest'"
     ]
    }
   ],
   "source": [
    "import matplotlib.pyplot as plt\n",
    "import numpy as np\n",
    "from glidertest import fetchers\n",
    "from glidertest import tools"
   ]
  },
  {
   "cell_type": "code",
   "execution_count": null,
   "id": "aa8b5749-9b76-4045-9f94-1896572d9d00",
   "metadata": {},
   "outputs": [],
   "source": []
  },
  {
   "cell_type": "code",
   "execution_count": 2,
   "id": "c09ef79a-4c97-4a5e-823c-6a148da84bfb",
   "metadata": {},
   "outputs": [
    {
     "name": "stdout",
     "output_type": "stream",
     "text": [
      "C:\\Users\\u241346\n"
     ]
    },
    {
     "name": "stderr",
     "output_type": "stream",
     "text": [
      "C:\\Users\\u241346\\AppData\\Local\\anaconda3\\envs\\chiara_base\\Lib\\site-packages\\IPython\\core\\magics\\osm.py:393: UserWarning: using bookmarks requires you to install the `pickleshare` library.\n",
      "  bkms = self.shell.db.get('bookmarks', {})\n",
      "C:\\Users\\u241346\\AppData\\Local\\anaconda3\\envs\\chiara_base\\Lib\\site-packages\\IPython\\core\\magics\\osm.py:428: UserWarning: using dhist requires you to install the `pickleshare` library.\n",
      "  self.shell.db['dhist'] = compress_dhist(dhist)[-100:]\n"
     ]
    }
   ],
   "source": [
    "cd"
   ]
  },
  {
   "cell_type": "markdown",
   "id": "dd041858-c498-4654-a7c8-1731beb839fc",
   "metadata": {},
   "source": [
    "### Load dataset\n",
    "\n",
    "Load an example dataset using `glidertest.fetchers.load_sample_dataset`\n",
    "\n",
    "Alternatively, use your own with e.g. `ds = xr.open_dataset('/path/to/yourfile.nc')`"
   ]
  },
  {
   "cell_type": "code",
   "execution_count": null,
   "id": "c336267e-b924-4bcf-937a-5f0c11857da2",
   "metadata": {},
   "outputs": [],
   "source": [
    "ds = fetchers.load_sample_dataset()"
   ]
  },
  {
   "cell_type": "code",
   "execution_count": null,
   "id": "8ca89b5a-37aa-43db-97a4-d25a8a140a30",
   "metadata": {},
   "outputs": [],
   "source": [
    "ds"
   ]
  },
  {
   "cell_type": "markdown",
   "id": "4f0504af-b61b-4369-b2d9-f41101bf06d3",
   "metadata": {},
   "source": [
    "### Check basic data and water column structure first"
   ]
  },
  {
   "cell_type": "code",
   "execution_count": null,
   "id": "df3badf9-77bc-4980-bbcf-667ecbe7ac83",
   "metadata": {},
   "outputs": [],
   "source": [
    "tools.plot_basic_vars(ds,v_res=1, start_prof=1, end_prof=int(ds.PROFILE_NUMBER.max()))"
   ]
  },
  {
   "cell_type": "markdown",
   "id": "3c8e018e-389b-410b-8455-d37d6effca7e",
   "metadata": {},
   "source": [
    "### Check for up-downcast bias in Salinity, Temperature, Chlorophyll and Oxygen"
   ]
  },
  {
   "cell_type": "code",
   "execution_count": null,
   "id": "1c7071c3-e90c-41de-b1a3-508dae16933f",
   "metadata": {},
   "outputs": [],
   "source": [
    "fig, ax = plt.subplots(1,4,figsize=(15, 5))\n",
    "tools.test_updown_bias(ds, ax[0],var='PSAL',v_res=0.1)\n",
    "tools.test_updown_bias(ds,ax[1], var='CHLA',v_res=0.1)\n",
    "tools.test_updown_bias(ds, ax[2], var='TEMP',v_res=0.1)\n",
    "tools.test_updown_bias(ds, ax[3], var='DOXY',v_res=0.1)"
   ]
  },
  {
   "cell_type": "markdown",
   "id": "4ae684a3-f9a8-454c-804e-a669cd6d25a5",
   "metadata": {},
   "source": [
    "### Chlorophyll\n",
    "\n",
    "*  Check bottom data and see if we have stable data that can be used for calibration. We also check stability of data to assess whether or not we have suspicious drift over the mission\n",
    "* We then check if data is affected by non photochemical quenching (NPQ). NPQ is a physiological response to high light environments used by plants and algae to protect themselves from damage and causes an evident weakening in fluorescence signal during the day. With the 'test_npq' function, we plot a selected section of chlorophyll data to see if any NPQ effect in the top few meters is visible and then we plot a selcted day daily and night average to check again any NPQ effect.\n",
    "\n",
    "(Reminder this tests mission had issues with FLBBCD as it stopped working few days into the missiona and got flooded)"
   ]
  },
  {
   "cell_type": "code",
   "execution_count": null,
   "id": "1cb7cb44-d228-4a1b-bdc6-0214b240e4bd",
   "metadata": {},
   "outputs": [],
   "source": [
    "tools.chl_first_check(ds)"
   ]
  },
  {
   "cell_type": "code",
   "execution_count": null,
   "id": "e66d7120-a6c8-44a0-b7bc-4b690fbc1d6a",
   "metadata": {},
   "outputs": [],
   "source": [
    "# We need to make sure we time as an index. If data already has time as an index, this cell will produce an error and can be ignored \n",
    "ds = ds.set_xindex('TIME')"
   ]
  },
  {
   "cell_type": "code",
   "execution_count": null,
   "id": "9a5830d3-df8e-420b-bdef-cb6ea8e7d3cf",
   "metadata": {},
   "outputs": [],
   "source": [
    "tools.check_npq(ds, offset = np.timedelta64(1, \"h\"), start_time = '2023-09-06', end_time = '2023-09-10', sel_day=2)"
   ]
  },
  {
   "cell_type": "markdown",
   "id": "1af62665-5c60-457f-8ee4-c83d0139c8c1",
   "metadata": {},
   "source": [
    "#### Non photochemical quenching corrections\n",
    "NPQ occurs only during the daytime, therefore when night measurements close in time and \n",
    "space are available, they can be used to correct daytime profiles. Different methods exist for NPQ \n",
    "correction. We recommend the paper by Thomalla et al. (2018) for a good overview on all possible methods. \n",
    "GliderTools (https://glidertools.readthedocs.io/en/latest/optics.html#quenching-correction) provides good tools for correction\n",
    "\n",
    "Thomalla, S. J., W. Moutier, T. J. Ryan-Keogh, L. Gregor, and J. Schütt. 2018. An optimized \r\n",
    "method for correcting fluorescence quenching using optical backscattering on autonomous \r\n",
    "platforms. Limnology and Oceanography: Methods, 16: 132-144. DOI: \r\n",
    "https://doi.org/10.1002/lom3.10234"
   ]
  },
  {
   "cell_type": "code",
   "execution_count": null,
   "id": "6c212170-ef3e-43b1-8d6b-fe1a0757c0fb",
   "metadata": {},
   "outputs": [],
   "source": []
  }
 ],
 "metadata": {
  "kernelspec": {
   "display_name": "Python 3 (ipykernel)",
   "language": "python",
   "name": "python3"
  },
  "language_info": {
   "codemirror_mode": {
    "name": "ipython",
    "version": 3
   },
   "file_extension": ".py",
   "mimetype": "text/x-python",
   "name": "python",
   "nbconvert_exporter": "python",
   "pygments_lexer": "ipython3",
   "version": "3.11.8"
  }
 },
 "nbformat": 4,
 "nbformat_minor": 5
}
