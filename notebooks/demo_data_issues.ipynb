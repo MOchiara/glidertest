{
 "cells": [
  {
   "cell_type": "markdown",
   "id": "0c8d2593",
   "metadata": {},
   "source": [
    "# Example issues in glider data"
   ]
  },
  {
   "cell_type": "markdown",
   "id": "97e9729d-4db2-419c-bbc2-a2078fc9b7dc",
   "metadata": {},
   "source": [
    "The purpose of this notebook is to demonstrate the functionality of the glidertest functions. We will use example data containing various issues to showcase how glidertest can help identify and visualize these problems.\n",
    "\n",
    "The notebook is organized into sections based on different variables, with each section focusing on specific issues. We have selected datasets where these issues are particularly prominent, allowing for clearer demonstrations.\n",
    "#### 1) CTD\n",
    "   - Up-down bias\n",
    "#### 2) Dissolved oxygen\n",
    "   - Temporal drift\n",
    "   - Hysteresis\n",
    "#### 3) Bio-optics\n",
    "   - Temporal drift - CDOM\n",
    "   - Temporal drift - Chlorophyll\n",
    "   - Fluorescence quenching\n",
    "   - Hysteresis - Phycocyanin\n",
    "   - Negative raw counts - Phycocyanin\n",
    "#### 4) Photosynthetically active radiation (PAR)\n",
    "   - Pitch effect - up and downcast bias\n",
    "#### 5) Dive performance"
   ]
  },
  {
   "cell_type": "code",
   "execution_count": null,
   "id": "6931bff6-9394-4f9b-872b-2353cfb3e385",
   "metadata": {},
   "outputs": [],
   "source": [
    "import matplotlib.pyplot as plt\n",
    "import gsw\n",
    "import ast\n",
    "import numpy as np\n",
    "from glidertest import fetchers,tools, plots, utilities, summary_sheet"
   ]
  },
  {
   "cell_type": "markdown",
   "id": "6e43a7e6-d51b-4dc6-80d6-5285e432af4e",
   "metadata": {},
   "source": [
    "# 1) CTD"
   ]
  },
  {
   "cell_type": "markdown",
   "id": "1329734a-0daa-495d-9bb1-e8c3993cfd55",
   "metadata": {},
   "source": [
    "## Up-down bias"
   ]
  },
  {
   "cell_type": "code",
   "execution_count": null,
   "id": "1a21ab2e-600f-485e-a8b8-6253a42a6d02",
   "metadata": {},
   "outputs": [],
   "source": [
    "ds = fetchers.load_sample_dataset(dataset_name='sg638_20191205T121839_delayed.nc')"
   ]
  },
  {
   "cell_type": "code",
   "execution_count": null,
   "id": "5c51e7ff-6f3a-4e48-8c84-1798dc2d8542",
   "metadata": {},
   "outputs": [],
   "source": [
    "fig, ax = plots.plot_hysteresis(ds, var='PSAL');"
   ]
  },
  {
   "cell_type": "code",
   "execution_count": null,
   "id": "2216f9a8-203d-4346-9488-591cb073d7b5",
   "metadata": {},
   "outputs": [],
   "source": [
    "fig, ax = plots.plot_hysteresis(ds, var='TEMP');"
   ]
  },
  {
   "cell_type": "code",
   "execution_count": null,
   "id": "7d1a2443-367b-4fca-ad48-2a8111ec0551",
   "metadata": {},
   "outputs": [],
   "source": [
    "fig, ax = plots.plot_hysteresis(ds, var='SIGMA_T');"
   ]
  },
  {
   "cell_type": "markdown",
   "id": "21b9da42-d08e-4539-94f4-957ff311a142",
   "metadata": {},
   "source": [
    "# 2) Dissolved oxygen"
   ]
  },
  {
   "cell_type": "markdown",
   "id": "83ffab86-bc9c-48cc-97df-7d0e95453641",
   "metadata": {},
   "source": [
    "## Temporal drift\n",
    "\n",
    "In this mission, we observe a clear temporal drift in the oxygen data, which appears unnatural. To minimize the potential influence of changing water temperature, we decide to plot oxygen saturation instead. For more details on this specific issue, please refer to this report:\n",
    "https://observations.voiceoftheocean.org/static/img/reports/Quality_Issue_1_AROD.pdf"
   ]
  },
  {
   "cell_type": "code",
   "execution_count": null,
   "id": "ee0246b9-a0db-4160-bfe2-07ef6515fba0",
   "metadata": {},
   "outputs": [],
   "source": [
    "ds = fetchers.load_sample_dataset(dataset_name='sea077_20230316T1019_delayed.nc')"
   ]
  },
  {
   "cell_type": "code",
   "execution_count": null,
   "id": "27d57fd1-ef7f-475a-a5ef-58c59ef3da02",
   "metadata": {},
   "outputs": [],
   "source": [
    "o2sol = gsw.O2sol(ds.PSAL, ds.TEMP, ds.PRES, ds.LATITUDE, ds.LONGITUDE)\n",
    "o2sat = 100 * ds.DOXY / o2sol\n",
    "ds['DOXY_SAT'] = o2sat\n",
    "ds['DOXY_SAT'] = ds['DOXY_SAT'].assign_attrs(units='%')"
   ]
  },
  {
   "cell_type": "code",
   "execution_count": null,
   "id": "01721c3d-650e-4493-af9e-f7a9c67112fa",
   "metadata": {},
   "outputs": [],
   "source": [
    "plots.check_temporal_drift(ds, var='DOXY_SAT');"
   ]
  },
  {
   "cell_type": "markdown",
   "id": "94b5101b-f897-469f-afe1-757944fb4e6b",
   "metadata": {},
   "source": [
    "## Hysteresis\n",
    "\n",
    "In this example mission, the oxygen data exhibit significant hysteresis, and the issue appears to worsen over time. We explore whether this could be related to day-night differences as well."
   ]
  },
  {
   "cell_type": "code",
   "execution_count": null,
   "id": "a171ed4c-284f-4e7f-b3f7-41fd095e8752",
   "metadata": {},
   "outputs": [],
   "source": [
    "# Both datasets have a very similar issue\n",
    "\n",
    "#ds = fetchers.load_sample_dataset(dataset_name=\"sea055_20240628T0856_delayed.nc\")\n",
    "ds = fetchers.load_sample_dataset(dataset_name=\"sea055_20241009T1345_delayed.nc\")"
   ]
  },
  {
   "cell_type": "code",
   "execution_count": null,
   "id": "544d00a3-9abe-4bcf-89fa-dc29debd62ac",
   "metadata": {},
   "outputs": [],
   "source": [
    "fig, ax = plt.subplots(1, 2, figsize=(15, 5))\n",
    "plots.plot_updown_bias(ds, var='DOXY', v_res=1, ax=ax[0])\n",
    "plots.plot_daynight_avg(ds, var='DOXY', ax=ax[1])\n",
    "plt.show();"
   ]
  },
  {
   "cell_type": "code",
   "execution_count": null,
   "id": "00018be7-43f5-4383-9975-c5cc3ee62a15",
   "metadata": {},
   "outputs": [],
   "source": [
    "fig, ax = plots.plot_hysteresis(ds, var='DOXY');"
   ]
  },
  {
   "cell_type": "markdown",
   "id": "77735b1e-141a-421c-8bdf-bde99f2885b0",
   "metadata": {},
   "source": [
    "# 3) Optics "
   ]
  },
  {
   "cell_type": "markdown",
   "id": "1279cb4c-5a8e-40ad-a961-51735ca66512",
   "metadata": {},
   "source": [
    "## Temporal drift - CDOM\n",
    "\n",
    "In this example mission, we observe a noticeable drift in CDOM across the entire water column, which appears unnatural. For more information on this issue, please refer to this report https://observations.voiceoftheocean.org/static/img/reports/Quality_Issue_2_CDOM.pdf"
   ]
  },
  {
   "cell_type": "code",
   "execution_count": null,
   "id": "a1a6d9e9-b88e-4ff9-91ee-2abc04ad6407",
   "metadata": {},
   "outputs": [],
   "source": [
    "ds = fetchers.load_sample_dataset(dataset_name='sea077_20220906T0748_delayed.nc')"
   ]
  },
  {
   "cell_type": "code",
   "execution_count": null,
   "id": "f1fe0205-eb66-4080-b13d-986a3a2df49e",
   "metadata": {},
   "outputs": [],
   "source": [
    "plots.check_temporal_drift(ds, var='CDOM');"
   ]
  },
  {
   "cell_type": "code",
   "execution_count": null,
   "id": "c3b3905f-423c-4b91-b851-93178e5ba2ac",
   "metadata": {},
   "outputs": [],
   "source": [
    "fig, ax = plt.subplots(figsize=(15, 5))\n",
    "var='CDOM'\n",
    "c=ax.scatter(ds.TIME,ds.DEPTH ,c=ds[var],vmin=np.nanpercentile(ds.CDOM, 0.5), vmax=np.nanpercentile(ds.CDOM, 99.5))\n",
    "ax.invert_yaxis()\n",
    "plt.colorbar(c, label = f'{utilities.plotting_labels(var)} ({utilities.plotting_units(ds,var)})')\n",
    "plt.show();"
   ]
  },
  {
   "cell_type": "markdown",
   "id": "ad5897a1-acf2-4332-9913-06e78212e364",
   "metadata": {},
   "source": [
    "## Temporal drift - Chlorophyll\n",
    "\n",
    "In this example mission, we observe a clear drift in the chlorophyll data. As noted in the metadata, water leakage in the payload section of the glider is likely the cause of this drift."
   ]
  },
  {
   "cell_type": "code",
   "execution_count": null,
   "id": "44283c05-7421-41fd-9755-6e6878a30d50",
   "metadata": {},
   "outputs": [],
   "source": [
    "ds = fetchers.load_sample_dataset(dataset_name=\"sea076_20230620T1201_delayed.nc\")"
   ]
  },
  {
   "cell_type": "code",
   "execution_count": null,
   "id": "75507e99-73c7-459f-bb17-238ec67e06e8",
   "metadata": {},
   "outputs": [],
   "source": [
    "ds.comment"
   ]
  },
  {
   "cell_type": "code",
   "execution_count": null,
   "id": "96fd17bd-0daa-4f63-b44f-75a20af29690",
   "metadata": {},
   "outputs": [],
   "source": [
    "plots.check_temporal_drift(ds, var='CHLA');"
   ]
  },
  {
   "cell_type": "code",
   "execution_count": null,
   "id": "24580859-6689-4f6b-9d47-2109203cfead",
   "metadata": {},
   "outputs": [],
   "source": [
    "plots.process_optics_assess(ds, var='CHLA');"
   ]
  },
  {
   "cell_type": "code",
   "execution_count": null,
   "id": "88c0206d-0a8c-4511-9f92-3a9f0fe954c0",
   "metadata": {},
   "outputs": [],
   "source": [
    "fig, ax = plt.subplots(figsize=(15, 5))\n",
    "var='CHLA'\n",
    "c=ax.scatter(ds.TIME,ds.DEPTH ,c=ds[var],vmin=np.nanpercentile(ds[var], 0.5), vmax=np.nanpercentile(ds[var], 99.5))\n",
    "ax.invert_yaxis()\n",
    "plt.colorbar(c, label = f'{utilities.plotting_labels(var)} ({utilities.plotting_units(ds,var)})')\n",
    "plt.show();"
   ]
  },
  {
   "cell_type": "markdown",
   "id": "1c7e0a12-32e5-48f9-bd05-54956ee7bb38",
   "metadata": {},
   "source": [
    "## Fluorescence quenching\n",
    "\n",
    "In this example dataset, we observe clear fluorescence quenching during the daytime within the top 10 meters of the water column. The orange lines indicate sunrise, while the blue lines represent sunset."
   ]
  },
  {
   "cell_type": "code",
   "execution_count": null,
   "id": "2e9071bc-9cc1-4a55-8b37-f0047626f6ed",
   "metadata": {},
   "outputs": [],
   "source": [
    "ds = fetchers.load_sample_dataset(dataset_name=\"sea045_20230530T0832_delayed.nc\")"
   ]
  },
  {
   "cell_type": "code",
   "execution_count": null,
   "id": "13304fce-5c41-4748-9fd0-7c125d50e53e",
   "metadata": {},
   "outputs": [],
   "source": [
    "print(f' Start {ds.TIME[0].values} - End {ds.TIME[-1].values}' )"
   ]
  },
  {
   "cell_type": "code",
   "execution_count": null,
   "id": "acf85a33-bc10-46ac-8acc-7cfdb97cf629",
   "metadata": {},
   "outputs": [],
   "source": [
    "plots.plot_quench_assess(ds, 'CHLA', ax=None, ylim=45,start_time='2023-05-30', end_time='2023-06-04');"
   ]
  },
  {
   "cell_type": "markdown",
   "id": "06f6ecef-8e72-4fc5-ba41-bc723f3c0e60",
   "metadata": {},
   "source": [
    "## Hysteresis - Phycocyanin\n",
    "\n",
    "In this example dataset, we observe clear hysteresis in the phycocyanin data."
   ]
  },
  {
   "cell_type": "code",
   "execution_count": null,
   "id": "7f105513-9633-4de7-91d8-28d82412c84b",
   "metadata": {},
   "outputs": [],
   "source": [
    "ds = fetchers.load_sample_dataset(dataset_name='sea069_20230726T0628_delayed.nc');"
   ]
  },
  {
   "cell_type": "code",
   "execution_count": null,
   "id": "c54f9558-da52-4165-b401-c47591e9c4ac",
   "metadata": {},
   "outputs": [],
   "source": [
    "fig, ax = plots.plot_hysteresis(ds, var='PHYCOCYANIN');"
   ]
  },
  {
   "cell_type": "markdown",
   "id": "e6e7c553-c50c-400f-9c7a-9e1de5be9a2e",
   "metadata": {},
   "source": [
    "## Negative raw counts - Phycocyanin\n",
    "\n",
    "The dataset consistently shows negative values. To investigate further, we check the raw counts (sensor engineering units) to determine if the issue is related to inaccurate calibration factors. We observe that the raw counts are also negative, and significant hysteresis is present."
   ]
  },
  {
   "cell_type": "code",
   "execution_count": null,
   "id": "3caf965c-cace-40c5-affd-c9ad5b9b1ed0",
   "metadata": {},
   "outputs": [],
   "source": [
    "ds = fetchers.load_sample_dataset(dataset_name='sea067_20221113T0853_delayed.nc')"
   ]
  },
  {
   "cell_type": "code",
   "execution_count": null,
   "id": "5802efa9-34ac-4d86-8faa-d4451b18eed9",
   "metadata": {},
   "outputs": [],
   "source": [
    "ds['SENSOR_FLUOROMETERS_7313'].calibration_parameters"
   ]
  },
  {
   "cell_type": "code",
   "execution_count": null,
   "id": "5ae5baec-028f-4803-b9a0-60c7043e2be3",
   "metadata": {},
   "outputs": [],
   "source": [
    "sf = ast.literal_eval(ds['SENSOR_FLUOROMETERS_7313'].calibration_parameters)['PC_SF']\n",
    "dc = ast.literal_eval(ds['SENSOR_FLUOROMETERS_7313'].calibration_parameters)['PC_DarkCounts']\n",
    "\n",
    "ds['PHYCO_COUNTS']= (ds['PHYCOCYANIN']/sf)+dc\n",
    "ds['PHYCO_COUNTS'] = ds['PHYCO_COUNTS'].assign_attrs(units='counts')"
   ]
  },
  {
   "cell_type": "code",
   "execution_count": null,
   "id": "68abd591-5a7e-4f0c-9983-87eb7a700e49",
   "metadata": {},
   "outputs": [],
   "source": [
    "fig, ax = plots.plot_hysteresis(ds, var='PHYCO_COUNTS');"
   ]
  },
  {
   "cell_type": "markdown",
   "id": "c3493ce1-d8f6-4f27-932b-0c6883be00c3",
   "metadata": {},
   "source": [
    "# 4) Photosynthetically active radiation (PAR)"
   ]
  },
  {
   "cell_type": "markdown",
   "id": "bdb53a11-9e6c-4cb4-ae55-4f3bda5011f3",
   "metadata": {},
   "source": [
    "## Pitch effect - up and downcast bias\n",
    "\n",
    "In this dataset, we demonstrate how the pitch and navigation patterns of the glider can impact the quality of PAR data. We show that the angle at which the PAR sensor faces the upper water column can significantly influence the data."
   ]
  },
  {
   "cell_type": "code",
   "execution_count": null,
   "id": "22c8bc52-c474-4124-84b5-c00f904df08b",
   "metadata": {},
   "outputs": [],
   "source": [
    "ds = fetchers.load_sample_dataset(dataset_name=\"sea045_20230530T0832_delayed.nc\")"
   ]
  },
  {
   "cell_type": "code",
   "execution_count": null,
   "id": "81e57490-745c-41d8-abf9-611ed71ea8d1",
   "metadata": {},
   "outputs": [],
   "source": [
    "plots.plot_updown_bias(ds, var='DPAR', v_res=1);"
   ]
  },
  {
   "cell_type": "markdown",
   "id": "956a3715-99bb-401c-a865-d6c9bf3c9932",
   "metadata": {},
   "source": [
    "# 5) Dive performance"
   ]
  },
  {
   "cell_type": "markdown",
   "id": "3adccd36-4144-4b2d-9646-e0e19b1a7b60",
   "metadata": {},
   "source": [
    "This example illustrates a mission where the glider loitered to conserve battery. Long loitering dives were alternated with normal dives during which the glider collected data."
   ]
  },
  {
   "cell_type": "code",
   "execution_count": null,
   "id": "a85c4052-5234-41b5-82a4-2c06e429f428",
   "metadata": {},
   "outputs": [],
   "source": [
    "ds = fetchers.load_sample_dataset(dataset_name='sea063_20230811T1657_delayed.nc')"
   ]
  },
  {
   "cell_type": "code",
   "execution_count": null,
   "id": "1610c528-a19b-4906-b729-914d1c1e2d49",
   "metadata": {},
   "outputs": [],
   "source": [
    "duration = tools.compute_prof_duration(ds)\n",
    "rolling_mean, overtime = tools.find_outlier_duration(duration,rolling=20, std=2)\n",
    "\n",
    "fig, ax = plots.plot_outlier_duration(ds, rolling_mean, overtime, std=2);"
   ]
  }
 ],
 "metadata": {
  "kernelspec": {
   "display_name": "Python 3 (ipykernel)",
   "language": "python",
   "name": "python3"
  },
  "language_info": {
   "codemirror_mode": {
    "name": "ipython",
    "version": 3
   },
   "file_extension": ".py",
   "mimetype": "text/x-python",
   "name": "python",
   "nbconvert_exporter": "python",
   "pygments_lexer": "ipython3",
   "version": "3.11.8"
  }
 },
 "nbformat": 4,
 "nbformat_minor": 5
}
